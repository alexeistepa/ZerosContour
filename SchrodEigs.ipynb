{
 "cells": [
  {
   "cell_type": "markdown",
   "metadata": {},
   "source": [
    "# Computing eigenvalues of non-self-adjoint Schr&ouml;dinger operators with FindZeros"
   ]
  },
  {
   "cell_type": "code",
   "execution_count": 1,
   "metadata": {
    "tags": []
   },
   "outputs": [],
   "source": [
    "import numpy as np\n",
    "import matplotlib.pyplot as plt\n",
    "from scipy.optimize import root\n",
    "from sympy import *\n",
    "from time import time"
   ]
  },
  {
   "cell_type": "code",
   "execution_count": 2,
   "metadata": {},
   "outputs": [],
   "source": [
    "from FindZeros import FindZeros"
   ]
  },
  {
   "cell_type": "markdown",
   "metadata": {},
   "source": [
    "## One barrier"
   ]
  },
  {
   "cell_type": "markdown",
   "metadata": {},
   "source": [
    "The zeros in the upper and lower-half plane of the below function are the eigenvalue and resonances (resp.) of the Schr&ouml;dinger operator $ -d^2/dx^2 + i \\gamma \\chi_R $ on the half-line endowed with a Dirchlet boundary condition at 0:\n",
    "$$\n",
    "f_R(z) = i \\sqrt{z} \\sin ( \\sqrt{z - i \\gamma} R ) - \\sqrt{z - i \\gamma } \\cos ( \\sqrt{z - i \\gamma } R ).\n",
    "$$"
   ]
  },
  {
   "cell_type": "code",
   "execution_count": 3,
   "metadata": {
    "tags": []
   },
   "outputs": [],
   "source": [
    "gam = 1\n",
    "R = 4.7\n",
    "z = symbols('z')\n",
    "fexpr = (1j*sqrt(z)*sin(sqrt(z - 1j*gam)*R) - sqrt(z - 1j*gam)*cos(sqrt(z - 1j*gam)*R))\n",
    "df = diff(fexpr,z)\n",
    "g = lambdify(z,df/fexpr)\n",
    "f = lambdify(z,fexpr)\n",
    "def f2(x): return abs(f(x[0]+1j*x[1]))**2"
   ]
  },
  {
   "cell_type": "code",
   "execution_count": 4,
   "metadata": {},
   "outputs": [
    {
     "name": "stdout",
     "output_type": "stream",
     "text": [
      "0.6729087829589844\n"
     ]
    }
   ],
   "source": [
    "t1 = time()\n",
    "nbres = FindZeros(-1.5j+0.01,10,2.5,g,f2,minit = 10)\n",
    "t2 = time()\n",
    "print(t2 - t1)"
   ]
  },
  {
   "cell_type": "code",
   "execution_count": 5,
   "metadata": {},
   "outputs": [
    {
     "data": {
      "image/png": "[encoded data removed]",
      "text/plain": [
       "<Figure size 720x720 with 1 Axes>"
      ]
     },
     "metadata": {
      "needs_background": "light"
     },
     "output_type": "display_data"
    }
   ],
   "source": [
    "plt.figure(figsize=(10,10))\n",
    "plt.scatter(np.array(nbres).real,np.array(nbres).imag,label='Zeros of $f_R$')\n",
    "plt.grid()\n",
    "plt.legend()\n",
    "plt.xlabel('Re')\n",
    "plt.ylabel('Im')\n",
    "plt.show()"
   ]
  },
  {
   "cell_type": "markdown",
   "metadata": {},
   "source": [
    "## Two barriers"
   ]
  },
  {
   "cell_type": "markdown",
   "metadata": {},
   "source": [
    "Similarly, the zeros in the upper and lower-half plane of the below function are the eigenvalue and resonances (resp.) of the Schr&ouml;dinger operator $ -d^2/dx^2 + i \\gamma \\chi_{R_0} + i \\gamma \\chi_{R} $ on the half-line endowed with a Dirichlet boundary condition at 0::\n",
    "$$\n",
    "f_{R_0,R}(z) = i\\sqrt{z - i \\gamma}\\left[ e^{-2i\\sqrt{z - i \\gamma}(R - R_0)} - \\frac{\\sqrt{z} - \\sqrt{z - i \\gamma}}{\\sqrt{z} + \\sqrt{z - i \\gamma}} \\right] \\sin ( \\sqrt{z - 2 i \\gamma } R_0 )\n",
    "- \\sqrt{z - 2 i \\gamma} \\left[ e^{-2 i \\sqrt{z - i \\gamma}(R - R_0)} + \\frac{\\sqrt{z} - \\sqrt{z - i \\gamma}}{\\sqrt{z} + \\sqrt{z - i \\gamma}} \\right] \\cos(\\sqrt{z - 2 i \\gamma}R_0)\n",
    "$$"
   ]
  },
  {
   "cell_type": "code",
   "execution_count": 9,
   "metadata": {
    "tags": []
   },
   "outputs": [],
   "source": [
    "gam = 1\n",
    "R = 25\n",
    "R_0 = 4.7\n",
    "z = symbols('z')\n",
    "fexpr = 1j*sqrt(z - 1j*gam)*(exp(-2*1j*sqrt(z - 1j*gam)*(R - R_0)) - (sqrt(z) - sqrt(z - 1j*gam))/(sqrt(z) + sqrt(z - 1j*gam)))*sin(sqrt(z - 2*1j*gam)*R_0)   \\\n",
    " - sqrt(z - 2*1j*gam)*(exp(-2*1j*sqrt(z - 1j*gam)*(R - R_0)) + (sqrt(z) - sqrt(z - 1j*gam))/(sqrt(z) + sqrt(z - 1j*gam)))*cos(sqrt(z - 2*1j*gam)*R_0)\n",
    "df = diff(fexpr,z)\n",
    "g = lambdify(z,df/fexpr)\n",
    "f = lambdify(z,fexpr)\n",
    "def f2(x): return abs(f(x[0]+1j*x[1]))**2"
   ]
  },
  {
   "cell_type": "code",
   "execution_count": 10,
   "metadata": {},
   "outputs": [
    {
     "name": "stdout",
     "output_type": "stream",
     "text": [
      "13.23136830329895\n"
     ]
    }
   ],
   "source": [
    "t1 = time()\n",
    "res = FindZeros(-1.5j+0.01,10,5,g,f2,minit = 10)\n",
    "t2 = time()\n",
    "print(t2 - t1)"
   ]
  },
  {
   "cell_type": "code",
   "execution_count": 11,
   "metadata": {},
   "outputs": [
    {
     "data": {
      "image/png": "[encoded data removed]",
      "text/plain": [
       "<Figure size 720x720 with 1 Axes>"
      ]
     },
     "metadata": {
      "needs_background": "light"
     },
     "output_type": "display_data"
    }
   ],
   "source": [
    "plt.figure(figsize=(10,10))\n",
    "plt.scatter(np.array(nbres).real,np.array(nbres).imag+1,label='Zeros of $f_R$')\n",
    "plt.scatter(np.array(res).real,np.array(res).imag,marker = 'x',label='Zeros of $f_{R_0,R}$')\n",
    "plt.grid()\n",
    "plt.legend()\n",
    "plt.xlabel('Re')\n",
    "plt.ylabel('Im')\n",
    "plt.show()"
   ]
  },
  {
   "cell_type": "code",
   "execution_count": null,
   "metadata": {},
   "outputs": [],
   "source": []
  }
 ],
 "metadata": {
  "kernelspec": {
   "display_name": "Python 3 (ipykernel)",
   "language": "python",
   "name": "python3"
  },
  "language_info": {
   "codemirror_mode": {
    "name": "ipython",
    "version": 3
   },
   "file_extension": ".py",
   "mimetype": "text/x-python",
   "name": "python",
   "nbconvert_exporter": "python",
   "pygments_lexer": "ipython3",
   "version": "3.9.12"
  }
 },
 "nbformat": 4,
 "nbformat_minor": 4
}
