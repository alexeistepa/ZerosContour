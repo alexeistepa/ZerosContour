{
 "cells": [
  {
   "cell_type": "code",
   "execution_count": 12,
   "metadata": {},
   "outputs": [],
   "source": [
    "import numpy as np\n",
    "import matplotlib.pyplot as plt\n",
    "from scipy.integrate import quad\n",
    "from sympy import *\n",
    "from scipy.optimize import minimize\n",
    "from time import time"
   ]
  },
  {
   "cell_type": "code",
   "execution_count": 2,
   "metadata": {},
   "outputs": [],
   "source": [
    "from FindZeros import *"
   ]
  },
  {
   "cell_type": "code",
   "execution_count": 8,
   "metadata": {},
   "outputs": [
    {
     "name": "stdout",
     "output_type": "stream",
     "text": [
      "(-1.1102230246251565e-16+1.1102230246251565e-16j) (1.4654943925052066e-14+0j) (5.811452865600586e-07-2.980232238769531e-07j)\n"
     ]
    }
   ],
   "source": [
    "# Examples (verifying Cauchy's theorem is satisfied) \n",
    "# 1:\n",
    "def f(z): return z**2 + 1\n",
    "tst1 = hor_cont(0,1,f) + ver_cont(1,1,f) + hor_cont(1+1j,-1,f) + ver_cont(1j,-1,f)\n",
    "# 2:\n",
    "def f(z): return np.sin(10*np.sqrt(z + 1))\n",
    "tst2 = hor_cont(0,1,f) + ver_cont(1,1,f) + hor_cont(1+1j,-1,f) + ver_cont(1j,-1,f)\n",
    "# 3:\n",
    "def f(z): return np.sin(50*np.sqrt(z + 1))\n",
    "tst3 = hor_cont(0,1,f) + ver_cont(1,1,f) + hor_cont(1+1j,-1,f) + ver_cont(1j,-1,f)\n",
    "\n",
    "print(tst1,tst2,tst3) # Should be almost zero"
   ]
  },
  {
   "cell_type": "code",
   "execution_count": 9,
   "metadata": {},
   "outputs": [
    {
     "name": "stdout",
     "output_type": "stream",
     "text": [
      "[-0.00024414-0.00024414j]\n"
     ]
    }
   ],
   "source": [
    "# Example 1: (f(z) = z)\n",
    "z = symbols('z')\n",
    "fexpr = z\n",
    "df = diff(fexpr,z)\n",
    "g = lambdify(z,df/fexpr)\n",
    "f = lambdify(z,fexpr)\n",
    "def f2(x): return abs(f(x[0]+1j*x[1]))**2\n",
    "tst1 = FindZeros(-1-1j,2.1,2.1,g,f2)\n",
    "print(tst1)"
   ]
  },
  {
   "cell_type": "code",
   "execution_count": 10,
   "metadata": {},
   "outputs": [
    {
     "name": "stdout",
     "output_type": "stream",
     "text": [
      "[-1.00102539-1.00102539e+00j  1.00092773-4.88281250e-05j\n",
      "  1.00092773+1.00092773e+00j]\n"
     ]
    }
   ],
   "source": [
    "# Example 2: (degree 3 polynomial with known zeros)\n",
    "z = symbols('z')\n",
    "fexpr = (z - (- 1 - 1j))*(z - 1)*(z - (1 + 1j))\n",
    "df = diff(fexpr,z)\n",
    "g = lambdify(z,df/fexpr)\n",
    "f = lambdify(z,fexpr)\n",
    "def f2(x): return abs(f(x[0]+1j*x[1]))**2\n",
    "tst2 = FindZeros(-2-2j,4.1,4.1,g,f2)\n",
    "print(tst2)"
   ]
  },
  {
   "cell_type": "code",
   "execution_count": 13,
   "metadata": {},
   "outputs": [
    {
     "name": "stdout",
     "output_type": "stream",
     "text": [
      "11.5086669921875\n"
     ]
    },
    {
     "data": {
      "image/png": "[encoded data removed]",
      "text/plain": [
       "<Figure size 720x720 with 1 Axes>"
      ]
     },
     "metadata": {
      "needs_background": "light"
     },
     "output_type": "display_data"
    }
   ],
   "source": [
    "# Example 3: (Big polynomial with known random zeros)\n",
    "z = symbols('z')\n",
    "roots = []\n",
    "root = np.random.triangular(0,1,3) + 1j*np.random.triangular(0,1,3)\n",
    "fexpr = z - root\n",
    "roots.append(root)\n",
    "n = 1\n",
    "while n <= 30:\n",
    "    root = np.random.triangular(0,1,3) + 1j*np.random.triangular(0,1,3)\n",
    "    fexpr = fexpr*(z - root)\n",
    "    roots.append(root)\n",
    "    n = n + 1\n",
    "df = diff(fexpr,z)\n",
    "g = lambdify(z,df/fexpr)\n",
    "f = lambdify(z,fexpr)\n",
    "def f2(x): return abs(f(x[0]+1j*x[1]))**2\n",
    "t1 = time()\n",
    "tst3 = FindZeros(0,3,3,g,f2,minit = 10)\n",
    "t2 = time()\n",
    "print(t2 - t1)\n",
    "plt.figure(figsize=(10,10))\n",
    "plt.scatter(np.array(roots).real,np.array(roots).imag,label='exact')\n",
    "plt.scatter(np.array(tst3).real,np.array(tst3).imag,label='computed',marker='x')\n",
    "plt.legend()\n",
    "plt.show()"
   ]
  },
  {
   "cell_type": "code",
   "execution_count": null,
   "metadata": {},
   "outputs": [],
   "source": []
  }
 ],
 "metadata": {
  "kernelspec": {
   "display_name": "Python 3 (ipykernel)",
   "language": "python",
   "name": "python3"
  },
  "language_info": {
   "codemirror_mode": {
    "name": "ipython",
    "version": 3
   },
   "file_extension": ".py",
   "mimetype": "text/x-python",
   "name": "python",
   "nbconvert_exporter": "python",
   "pygments_lexer": "ipython3",
   "version": "3.9.12"
  }
 },
 "nbformat": 4,
 "nbformat_minor": 4
}
